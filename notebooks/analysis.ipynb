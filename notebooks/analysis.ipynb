{
 "cells": [
  {
   "cell_type": "markdown",
   "id": "fe637e51",
   "metadata": {},
   "source": [
    "# Expense Analysis Notebook\n",
    "\n",
    "Load the sample dataset and do quick EDA."
   ]
  },
  {
   "cell_type": "code",
   "execution_count": null,
   "id": "bdf10403",
   "metadata": {},
   "outputs": [],
   "source": [
    "\n",
    "import pandas as pd\n",
    "import matplotlib.pyplot as plt\n",
    "\n",
    "df = pd.read_csv('../data/transactions.csv', parse_dates=['Date'])\n",
    "df.head()\n"
   ]
  },
  {
   "cell_type": "code",
   "execution_count": null,
   "id": "81d37943",
   "metadata": {},
   "outputs": [],
   "source": [
    "\n",
    "# Total Income, Expense, Savings\n",
    "total_income = df.loc[df['Type']=='Income','Amount'].sum()\n",
    "total_expense = df.loc[df['Type']=='Expense','Amount'].sum()\n",
    "savings = total_income - total_expense\n",
    "total_income, total_expense, savings\n"
   ]
  },
  {
   "cell_type": "code",
   "execution_count": null,
   "id": "c635c2af",
   "metadata": {},
   "outputs": [],
   "source": [
    "\n",
    "# Expenses by Category (Matplotlib bar)\n",
    "by_cat = df[df['Type']=='Expense'].groupby('Category')['Amount'].sum().sort_values(ascending=False)\n",
    "ax = by_cat.plot(kind='bar', title='Expenses by Category')\n",
    "ax.set_xlabel('Category'); ax.set_ylabel('Amount')\n",
    "plt.tight_layout()\n",
    "plt.show()\n"
   ]
  }
 ],
 "metadata": {},
 "nbformat": 4,
 "nbformat_minor": 5
}
